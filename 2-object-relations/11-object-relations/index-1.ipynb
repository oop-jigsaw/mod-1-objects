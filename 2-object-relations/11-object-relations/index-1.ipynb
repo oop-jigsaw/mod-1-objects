{
 "cells": [
  {
   "cell_type": "markdown",
   "metadata": {},
   "source": [
    "# Object Relations"
   ]
  },
  {
   "cell_type": "markdown",
   "metadata": {},
   "source": [
    "### Introduction"
   ]
  },
  {
   "cell_type": "markdown",
   "metadata": {},
   "source": [
    "Now so far we have worked with individual classes, but in a larger program, we'll need to create multiple classes, whose instances interact with one another.  Let's see\n",
    "how. "
   ]
  },
  {
   "cell_type": "markdown",
   "metadata": {},
   "source": [
    "### Storing our instances"
   ]
  },
  {
   "cell_type": "markdown",
   "metadata": {},
   "source": [
    "Let's move back to our plane example.  We can create a new plane with something like the following."
   ]
  },
  {
   "cell_type": "code",
   "execution_count": null,
   "metadata": {},
   "outputs": [],
   "source": [
    "import datetime\n",
    "class Plane:\n",
    "    def __init__(self, year):\n",
    "        self.year = year\n",
    "        \n",
    "    def age(self):\n",
    "        now = datetime.datetime.now()\n",
    "        current_year = now.year\n",
    "        return current_year - self.year"
   ]
  },
  {
   "cell_type": "markdown",
   "metadata": {},
   "source": [
    "Now, in the life of our program, we may mant to create multiple planes, and after the plane is created may want an easy way to reference each of the planes that are created.  To do this, let's create a `store` object that looks like the following."
   ]
  },
  {
   "cell_type": "code",
   "execution_count": null,
   "metadata": {},
   "outputs": [],
   "source": [
    "store = {'planes': []}"
   ]
  },
  {
   "cell_type": "markdown",
   "metadata": {},
   "source": [
    "Now inside this dictionary, we can store each of the planes that are created.  Now, we can do this simply by creating a new plan, and then adding it to the store."
   ]
  },
  {
   "cell_type": "code",
   "execution_count": null,
   "metadata": {},
   "outputs": [],
   "source": [
    "plane = Plane(2010)"
   ]
  },
  {
   "cell_type": "code",
   "execution_count": null,
   "metadata": {},
   "outputs": [],
   "source": [
    "store['planes'].append(plane)"
   ]
  },
  {
   "cell_type": "code",
   "execution_count": null,
   "metadata": {},
   "outputs": [],
   "source": [
    "store"
   ]
  },
  {
   "cell_type": "markdown",
   "metadata": {},
   "source": [
    "However, to ensure that this occurs automatically, upon creating a plan, we should add this process into the `__init__` function like so."
   ]
  },
  {
   "cell_type": "code",
   "execution_count": null,
   "metadata": {},
   "outputs": [],
   "source": [
    "store = {'planes': []}\n",
    "\n",
    "class Plane:\n",
    "    def __init__(self, year):\n",
    "        # *** line we are adding ***\n",
    "        store['planes'].append(self)\n",
    "        self.year = year\n",
    "        \n",
    "    def age(self):\n",
    "        now = datetime.datetime.now()\n",
    "        current_year = now.year\n",
    "        return current_year - self.year"
   ]
  },
  {
   "cell_type": "markdown",
   "metadata": {},
   "source": [
    "So this time, each time a plan is created, we automatically add it to the store."
   ]
  },
  {
   "cell_type": "markdown",
   "metadata": {},
   "source": [
    "> Let's try this by creating two new planes."
   ]
  },
  {
   "cell_type": "code",
   "execution_count": null,
   "metadata": {},
   "outputs": [],
   "source": [
    "plane_one = Plane(2010)\n",
    "plane_two = Plane(2011)\n",
    "\n",
    "store"
   ]
  },
  {
   "cell_type": "markdown",
   "metadata": {},
   "source": [
    "What's nice about this is that if we say, would like to see all of the years that our planes were made, we can do so with the following:"
   ]
  },
  {
   "cell_type": "code",
   "execution_count": null,
   "metadata": {},
   "outputs": [],
   "source": [
    "planes = store['planes']\n",
    "[plane.year for plane in planes]"
   ]
  },
  {
   "cell_type": "markdown",
   "metadata": {},
   "source": [
    "So saving our instances in a collection is a nice way to see aggregate information about all of the planes created."
   ]
  },
  {
   "cell_type": "markdown",
   "metadata": {},
   "source": [
    "Let's give each of these planes an id as well.  We can do so by updating our code to the following."
   ]
  },
  {
   "cell_type": "code",
   "execution_count": null,
   "metadata": {},
   "outputs": [],
   "source": [
    "store = {'planes': []}\n",
    "\n",
    "class Plane:\n",
    "    def __init__(self, year):\n",
    "        self.year = year\n",
    "        # plane counter\n",
    "        plane_id = len(store['planes']) + 1\n",
    "        store['planes'].append(self)\n",
    "        self.id = plane_id\n",
    "        \n",
    "    def age(self):\n",
    "        now = datetime.datetime.now()\n",
    "        current_year = now.year\n",
    "        return current_year - self.year"
   ]
  },
  {
   "cell_type": "code",
   "execution_count": null,
   "metadata": {},
   "outputs": [],
   "source": [
    "store"
   ]
  },
  {
   "cell_type": "code",
   "execution_count": null,
   "metadata": {},
   "outputs": [],
   "source": [
    "plane = Plane(2015)\n",
    "\n",
    "plane.id"
   ]
  },
  {
   "cell_type": "markdown",
   "metadata": {},
   "source": [
    "And now, this time, each of the planes has their own id."
   ]
  },
  {
   "cell_type": "markdown",
   "metadata": {},
   "source": [
    "### Adding flights"
   ]
  },
  {
   "cell_type": "markdown",
   "metadata": {},
   "source": [
    "Now let's say we want to keep track of flights.  We can do so with something like the following."
   ]
  },
  {
   "cell_type": "code",
   "execution_count": null,
   "metadata": {},
   "outputs": [],
   "source": [
    "store = {'planes': [], 'flights': []}\n",
    "\n",
    "class Flight:\n",
    "    def __init__(self, origin_city, destination_city):\n",
    "        store['flights'].append(self)\n",
    "        self.id = len(store['flights'])\n",
    "        self.origin_city = origin_city\n",
    "        self.destination_city = destination_city"
   ]
  },
  {
   "cell_type": "code",
   "execution_count": null,
   "metadata": {},
   "outputs": [],
   "source": [
    "flight_1 = Flight('NYC', 'CHI')\n",
    "flight_2 = Flight('NYC', 'LA')"
   ]
  },
  {
   "cell_type": "markdown",
   "metadata": {},
   "source": [
    "And then we can look reference each of the flights created with something like the following."
   ]
  },
  {
   "cell_type": "code",
   "execution_count": null,
   "metadata": {},
   "outputs": [],
   "source": [
    "store['flights']"
   ]
  },
  {
   "cell_type": "code",
   "execution_count": null,
   "metadata": {},
   "outputs": [],
   "source": [
    "[flight.__dict__ for flight in store['flights']]"
   ]
  },
  {
   "cell_type": "markdown",
   "metadata": {},
   "source": [
    "Now it probably makes sense to associate a flight with a plane.  If we were to describe the relationship between flights and planes, we would say that: \n",
    "\n",
    "* A flight **has one** plane\n",
    "* A plane **has many** flights"
   ]
  },
  {
   "cell_type": "markdown",
   "metadata": {},
   "source": [
    "> Take a moment to think about the above.  It's one of the key relationships we'll see.  A flight can only have one particular plane associated with it, but a plane can have many associated flights."
   ]
  },
  {
   "cell_type": "markdown",
   "metadata": {},
   "source": [
    "Ok, now to link a a flight to a plane in code we can do something like the following."
   ]
  },
  {
   "cell_type": "code",
   "execution_count": null,
   "metadata": {},
   "outputs": [],
   "source": [
    "class Flight:\n",
    "    def __init__(self, origin_city, destination_city, plane):\n",
    "        \n",
    "        self.id = len(store['flights']) + 1\n",
    "        self.origin_city = origin_city\n",
    "        self.destination_city = destination_city\n",
    "        \n",
    "        self.plane_id = plane.id\n",
    "        store['flights'].append(self)\n",
    "        \n",
    "    def plane(self):\n",
    "        return [plane for plane in store['planes'] if plane.id == flight.plane_id][0]"
   ]
  },
  {
   "cell_type": "code",
   "execution_count": null,
   "metadata": {},
   "outputs": [],
   "source": [
    "store = {'planes': [], 'flights': []}\n",
    "\n",
    "plane = Plane(2015)"
   ]
  },
  {
   "cell_type": "code",
   "execution_count": null,
   "metadata": {},
   "outputs": [],
   "source": [
    "flight = Flight('NYC', 'CHI', plane)"
   ]
  },
  {
   "cell_type": "code",
   "execution_count": null,
   "metadata": {},
   "outputs": [],
   "source": [
    "flight.plane()"
   ]
  },
  {
   "cell_type": "markdown",
   "metadata": {},
   "source": [
    "Let's break down what we did above.  First we stored the `plane_id` on our flight with the line `self.plane_id = plane.id` in our `__init__` function.  "
   ]
  },
  {
   "cell_type": "code",
   "execution_count": null,
   "metadata": {},
   "outputs": [],
   "source": [
    "flight.plane_id"
   ]
  },
  {
   "cell_type": "markdown",
   "metadata": {},
   "source": [
    "Then in the `plane` function, to return the associated plane, we search through the associated planes until we find the plane whose id matches the flight's `plane_id`."
   ]
  },
  {
   "cell_type": "markdown",
   "metadata": {},
   "source": [
    "```python \n",
    "[plane for plane in store['planes'] if plane.id == flight.plane_id][0]\n",
    "```"
   ]
  },
  {
   "cell_type": "markdown",
   "metadata": {},
   "source": [
    "### Adding a has many function"
   ]
  },
  {
   "cell_type": "markdown",
   "metadata": {},
   "source": [
    "So above, we saw how we can write a function to find the plane that belongs to the flight.  Now what if we want to find *all* of the flights associated with a plane."
   ]
  },
  {
   "cell_type": "markdown",
   "metadata": {},
   "source": [
    "Let's start by creating another flight."
   ]
  },
  {
   "cell_type": "code",
   "execution_count": null,
   "metadata": {},
   "outputs": [],
   "source": [
    "store = {'planes': [], 'flights': []}\n",
    "plane = Plane(2015)\n",
    "plane_two = Plane(2018)\n",
    "\n",
    "flight = Flight('NYC', 'CHI', plane)\n",
    "flight_two = Flight('NYC', 'CHI', plane_two)\n",
    "flight_three = Flight('NYC', 'LA', plane)"
   ]
  },
  {
   "cell_type": "markdown",
   "metadata": {},
   "source": [
    "So we want to find all of the flights associated with our plane.  Notice that on our plane, there is no associating data to the flight."
   ]
  },
  {
   "cell_type": "code",
   "execution_count": null,
   "metadata": {},
   "outputs": [],
   "source": [
    "plane.__dict__"
   ]
  },
  {
   "cell_type": "markdown",
   "metadata": {},
   "source": [
    "Rather, the link between planes and flights lives on the object that *has one*, that is the flight (as the flight has one plane)."
   ]
  },
  {
   "cell_type": "code",
   "execution_count": null,
   "metadata": {},
   "outputs": [],
   "source": [
    "[flight.__dict__ for flight in store['flights']]"
   ]
  },
  {
   "cell_type": "markdown",
   "metadata": {},
   "source": [
    "So to find all of the flights associated with the plane with id 1, we can do the following."
   ]
  },
  {
   "cell_type": "code",
   "execution_count": null,
   "metadata": {},
   "outputs": [],
   "source": [
    "class Plane:\n",
    "    def __init__(self, year):\n",
    "        self.year = year\n",
    "        self.id = len(store['planes']) + 1\n",
    "        store['planes'].append(self)\n",
    "        \n",
    "    def age(self):\n",
    "        now = datetime.datetime.now()\n",
    "        current_year = now.year\n",
    "        return current_year - self.year\n",
    "        \n",
    "    def flights(self):\n",
    "        return [flight for flight in store['flights'] if flight.plane_id == self.id]"
   ]
  },
  {
   "cell_type": "markdown",
   "metadata": {},
   "source": [
    "So our flights method goes through each of the flights, returning only the flight that has the plane_id that matches the current instances id."
   ]
  },
  {
   "cell_type": "markdown",
   "metadata": {},
   "source": [
    "Now let's try it by recreating some data."
   ]
  },
  {
   "cell_type": "code",
   "execution_count": null,
   "metadata": {},
   "outputs": [],
   "source": [
    "store = {'planes': [], 'flights': []}\n",
    "plane = Plane(2015)\n",
    "plane_two = Plane(2018)\n",
    "\n",
    "flight = Flight('NYC', 'CHI', plane)\n",
    "flight_two = Flight('NYC', 'CHI', plane_two)\n",
    "flight_three = Flight('NYC', 'LA', plane)"
   ]
  },
  {
   "cell_type": "code",
   "execution_count": null,
   "metadata": {},
   "outputs": [],
   "source": [
    "plane.id"
   ]
  },
  {
   "cell_type": "markdown",
   "metadata": {},
   "source": [
    "So each plane_id is stored on the flight, and to find all of the flights associated with a plane, we call the flights method, which looks for the flights with the matching `plane_id`."
   ]
  },
  {
   "cell_type": "code",
   "execution_count": null,
   "metadata": {},
   "outputs": [],
   "source": [
    "plane.flights()"
   ]
  },
  {
   "cell_type": "code",
   "execution_count": null,
   "metadata": {},
   "outputs": [],
   "source": [
    "[flight.__dict__ for flight in plane.flights()]"
   ]
  },
  {
   "cell_type": "markdown",
   "metadata": {},
   "source": [
    "### Summary"
   ]
  },
  {
   "cell_type": "markdown",
   "metadata": {},
   "source": [
    "In this lesson, we learned how to associate objects with one another.  We first saw that we can store each of the instances created in a `store` where our store is a dictionary that has keys to store instances of each of the classes, as well as an associated counter.  Then, every time an instance is created we add the new instance to the store through the `__init__` function."
   ]
  },
  {
   "cell_type": "code",
   "execution_count": null,
   "metadata": {},
   "outputs": [],
   "source": [
    "store = {'planes': []}\n",
    "\n",
    "class Plane:\n",
    "    def __init__(self, year):\n",
    "        store['planes'].append(self)\n",
    "        self.id = len(store['planes']) + 1\n",
    "        self.year = year"
   ]
  },
  {
   "cell_type": "markdown",
   "metadata": {},
   "source": [
    "Then we saw how we can associate a flight with a plane by storing the `plane_id` on the flight."
   ]
  },
  {
   "cell_type": "code",
   "execution_count": null,
   "metadata": {},
   "outputs": [],
   "source": [
    "store = {'planes': [], 'flights': []}\n",
    "\n",
    "class Flight:\n",
    "    def __init__(self, origin_city, destination_city, plane):\n",
    "        self.id = len(store['flights']) + 1\n",
    "        self.origin_city = origin_city\n",
    "        self.destination_city = destination_city\n",
    "        self.plane_id = plane.id\n",
    "        store['flights'].append(self)\n",
    "        \n",
    "    def plane(self):\n",
    "        return [plane for plane in store['planes'] if plane.id == flight.plane_id][0]"
   ]
  },
  {
   "cell_type": "code",
   "execution_count": null,
   "metadata": {},
   "outputs": [],
   "source": [
    "plane = Plane(2018)\n",
    "flight = Flight('NYC', 'CHI', plane)"
   ]
  },
  {
   "cell_type": "markdown",
   "metadata": {},
   "source": [
    "And we can find the plane associated with a flight by looping through each of the planes, finding the plane whose id matches the flight's `plane_id`."
   ]
  },
  {
   "cell_type": "code",
   "execution_count": null,
   "metadata": {},
   "outputs": [],
   "source": [
    "flight.plane()"
   ]
  },
  {
   "cell_type": "markdown",
   "metadata": {},
   "source": [
    "And we can also find a plane's flights by  searching through all flights, returning the flight whose `plane_id` matches the current flight's `id`. "
   ]
  },
  {
   "cell_type": "code",
   "execution_count": null,
   "metadata": {},
   "outputs": [],
   "source": [
    "class Plane:\n",
    "    def __init__(self, year):\n",
    "        store['planes'].append(self)\n",
    "        self.id = len(store['planes']) + 1\n",
    "        self.year = year\n",
    "        \n",
    "    def flights(self):\n",
    "        return [flight for flight in store['flights'] if flight.plane_id == self.id]"
   ]
  },
  {
   "cell_type": "code",
   "execution_count": null,
   "metadata": {},
   "outputs": [],
   "source": []
  }
 ],
 "metadata": {
  "kernelspec": {
   "display_name": "Python 3 (ipykernel)",
   "language": "python",
   "name": "python3"
  },
  "language_info": {
   "codemirror_mode": {
    "name": "ipython",
    "version": 3
   },
   "file_extension": ".py",
   "mimetype": "text/x-python",
   "name": "python",
   "nbconvert_exporter": "python",
   "pygments_lexer": "ipython3",
   "version": "3.9.12"
  },
  "vscode": {
   "interpreter": {
    "hash": "aee8b7b246df8f9039afb4144a1f6fd8d2ca17a180786b69acc140d282b71a49"
   }
  }
 },
 "nbformat": 4,
 "nbformat_minor": 4
}
