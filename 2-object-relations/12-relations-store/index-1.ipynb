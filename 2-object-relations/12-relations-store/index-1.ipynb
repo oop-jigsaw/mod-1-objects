{
 "cells": [
  {
   "cell_type": "markdown",
   "metadata": {},
   "source": [
    "# Updating the store"
   ]
  },
  {
   "cell_type": "markdown",
   "metadata": {},
   "source": [
    "### Introduction"
   ]
  },
  {
   "cell_type": "markdown",
   "metadata": {},
   "source": [
    "In this lesson, we'll see a slightly different mechanism for storing our data.  This is what we'll be using in the following lab."
   ]
  },
  {
   "cell_type": "markdown",
   "metadata": {},
   "source": [
    "### Storing our instances"
   ]
  },
  {
   "cell_type": "markdown",
   "metadata": {},
   "source": [
    "Previously, we created a store and added our instances to it like so."
   ]
  },
  {
   "cell_type": "code",
   "execution_count": 1,
   "metadata": {},
   "outputs": [],
   "source": [
    "store = {'planes': []}"
   ]
  },
  {
   "cell_type": "code",
   "execution_count": 6,
   "metadata": {},
   "outputs": [],
   "source": [
    "store = {'planes': []}\n",
    "\n",
    "class Plane:\n",
    "    def __init__(self, year):\n",
    "        self.year = year\n",
    "        plane_id = len(store['planes']) + 1\n",
    "        store['planes'].append(self)\n",
    "        self.id = plane_id\n",
    "        \n",
    "    def age(self):\n",
    "        now = datetime.datetime.now()\n",
    "        current_year = now.year\n",
    "        return current_year - self.year"
   ]
  },
  {
   "cell_type": "code",
   "execution_count": 7,
   "metadata": {},
   "outputs": [
    {
     "data": {
      "text/plain": [
       "1"
      ]
     },
     "execution_count": 7,
     "metadata": {},
     "output_type": "execute_result"
    }
   ],
   "source": [
    "plane = Plane(2015)\n",
    "\n",
    "plane.id"
   ]
  },
  {
   "cell_type": "code",
   "execution_count": 8,
   "metadata": {},
   "outputs": [
    {
     "data": {
      "text/plain": [
       "{'planes': [<__main__.Plane at 0x10ce1c5e0>]}"
      ]
     },
     "execution_count": 8,
     "metadata": {},
     "output_type": "execute_result"
    }
   ],
   "source": [
    "store"
   ]
  },
  {
   "cell_type": "markdown",
   "metadata": {},
   "source": [
    "### Updating the Store"
   ]
  },
  {
   "cell_type": "markdown",
   "metadata": {},
   "source": [
    "Now let's update the store so that we store each of our planes in a dictionary instead of a list."
   ]
  },
  {
   "cell_type": "code",
   "execution_count": 15,
   "metadata": {},
   "outputs": [],
   "source": [
    "store = {'planes': {}}"
   ]
  },
  {
   "cell_type": "markdown",
   "metadata": {},
   "source": [
    "We want the keys to be the id of each plane, and the value to be the plane itself.  Each plane should also have it's own id.  \n",
    "\n",
    "> We can achieve this like so."
   ]
  },
  {
   "cell_type": "code",
   "execution_count": 16,
   "metadata": {},
   "outputs": [],
   "source": [
    "class Plane:\n",
    "    def __init__(self, year):\n",
    "        self.year = year\n",
    "        plane_id = len(store['planes']) + 1\n",
    "        self.id = plane_id\n",
    "        store['planes'][plane_id] = self\n",
    "        \n",
    "    def age(self):\n",
    "        now = datetime.datetime.now()\n",
    "        current_year = now.year\n",
    "        return current_year - self.year"
   ]
  },
  {
   "cell_type": "code",
   "execution_count": 18,
   "metadata": {},
   "outputs": [
    {
     "data": {
      "text/plain": [
       "<__main__.Plane at 0x10cdf5fa0>"
      ]
     },
     "execution_count": 18,
     "metadata": {},
     "output_type": "execute_result"
    }
   ],
   "source": [
    "Plane(2010)"
   ]
  },
  {
   "cell_type": "code",
   "execution_count": 19,
   "metadata": {},
   "outputs": [
    {
     "data": {
      "text/plain": [
       "{1: <__main__.Plane at 0x10cdf5fa0>}"
      ]
     },
     "execution_count": 19,
     "metadata": {},
     "output_type": "execute_result"
    }
   ],
   "source": [
    "store['planes']"
   ]
  },
  {
   "cell_type": "markdown",
   "metadata": {},
   "source": [
    "Let's copy our code below, and make sure we understand it. "
   ]
  },
  {
   "cell_type": "code",
   "execution_count": null,
   "metadata": {},
   "outputs": [],
   "source": [
    "store = {'planes': {}}\n",
    "class Plane:\n",
    "    def __init__(self, year):\n",
    "        self.year = year\n",
    "        plane_id = len(store['planes']) + 1\n",
    "        self.id = plane_id\n",
    "        store['planes'][plane_id] = self\n",
    "        \n",
    "    def age(self):\n",
    "        now = datetime.datetime.now()\n",
    "        current_year = now.year\n",
    "        return current_year - self.year"
   ]
  },
  {
   "cell_type": "markdown",
   "metadata": {},
   "source": [
    "So we again calculate a plane id by the length of the collection -- this time a dictionary.  And we store the plane in the dictionary with a key value pair, where the key is the id of the plane and the value is the plane itself. "
   ]
  },
  {
   "cell_type": "markdown",
   "metadata": {},
   "source": [
    "### Summary\n",
    "\n",
    "In this lesson, we saw how to store our planes in a dictionary instead of a list.  "
   ]
  }
 ],
 "metadata": {
  "kernelspec": {
   "display_name": "Python 3 (ipykernel)",
   "language": "python",
   "name": "python3"
  },
  "language_info": {
   "codemirror_mode": {
    "name": "ipython",
    "version": 3
   },
   "file_extension": ".py",
   "mimetype": "text/x-python",
   "name": "python",
   "nbconvert_exporter": "python",
   "pygments_lexer": "ipython3",
   "version": "3.9.10"
  },
  "vscode": {
   "interpreter": {
    "hash": "aee8b7b246df8f9039afb4144a1f6fd8d2ca17a180786b69acc140d282b71a49"
   }
  }
 },
 "nbformat": 4,
 "nbformat_minor": 4
}
