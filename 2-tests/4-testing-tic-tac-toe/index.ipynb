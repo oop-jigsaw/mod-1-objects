{
 "cells": [
  {
   "cell_type": "markdown",
   "metadata": {},
   "source": [
    "# Testing Tic Tac Toe"
   ]
  },
  {
   "cell_type": "markdown",
   "metadata": {},
   "source": [
    "### Introduction"
   ]
  },
  {
   "cell_type": "markdown",
   "metadata": {},
   "source": [
    "In this lesson, we'll work on writing some of our own tests.  Let's say that we have we want to build out the game tic tac toe.  We'll get you started with the state of the board."
   ]
  },
  {
   "cell_type": "markdown",
   "metadata": {},
   "source": [
    "### Building a Board"
   ]
  },
  {
   "cell_type": "code",
   "execution_count": 5,
   "metadata": {},
   "outputs": [],
   "source": [
    "class Board:\n",
    "    def __init__(self, state):\n",
    "        self.state = state"
   ]
  },
  {
   "cell_type": "code",
   "execution_count": 11,
   "metadata": {},
   "outputs": [],
   "source": [
    "state = [['X', 'X', 'O'], \n",
    "        ['X', 'O', 'O'], \n",
    "        ['O', 'X', 'O']]"
   ]
  },
  {
   "cell_type": "code",
   "execution_count": 12,
   "metadata": {},
   "outputs": [],
   "source": [
    "board = Board(state = state)"
   ]
  },
  {
   "cell_type": "code",
   "execution_count": 13,
   "metadata": {},
   "outputs": [
    {
     "data": {
      "text/plain": [
       "[['X', 'X', 'O'], ['X', 'O', 'O'], ['O', 'X', 'O']]"
      ]
     },
     "execution_count": 13,
     "metadata": {},
     "output_type": "execute_result"
    }
   ],
   "source": [
    "board.state"
   ]
  },
  {
   "cell_type": "markdown",
   "metadata": {},
   "source": [
    "We can perhaps write a function called `winner` that is an instance method of the board class that:\n",
    "\n",
    "* returns a `'O'` if `O` has won\n",
    "* returns an `'X'` if `X` has won\n",
    "* returns `N/A` if neither has yet won\n",
    "* returns `tie` if all pieces are done and it's a tie.\n",
    "    \n",
    "Hints: \n",
    "* In building this out, perhaps start with completing a small bit of functionality of the code, then writing a test that confirms this functionality works.  Then, after successfully achieving this, try to write the tests before writing the code.\n",
    "* It may be useful to write out some (or all) of the different scenarios, and then write out the corresponding tests to accompany the code.\n",
    "* Keep in mind our guidelines about having keeping methods to five lines or fewer.  If the method length grows beyond this, then refactor into smaller methods."
   ]
  },
  {
   "cell_type": "markdown",
   "metadata": {},
   "source": [
    "* Finally, in addition to a board class, think about adding a `square` class use squares instead of the state attribute."
   ]
  },
  {
   "cell_type": "markdown",
   "metadata": {},
   "source": [
    "Good luck!"
   ]
  }
 ],
 "metadata": {
  "kernelspec": {
   "display_name": "Python 3 (ipykernel)",
   "language": "python",
   "name": "python3"
  },
  "language_info": {
   "codemirror_mode": {
    "name": "ipython",
    "version": 3
   },
   "file_extension": ".py",
   "mimetype": "text/x-python",
   "name": "python",
   "nbconvert_exporter": "python",
   "pygments_lexer": "ipython3",
   "version": "3.9.12"
  }
 },
 "nbformat": 4,
 "nbformat_minor": 4
}
