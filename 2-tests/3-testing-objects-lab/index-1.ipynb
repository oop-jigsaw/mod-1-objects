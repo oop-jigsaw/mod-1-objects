{
 "cells": [
  {
   "cell_type": "markdown",
   "metadata": {},
   "source": [
    "# Testing Objects"
   ]
  },
  {
   "cell_type": "markdown",
   "metadata": {},
   "source": [
    "### Introduction"
   ]
  },
  {
   "cell_type": "markdown",
   "metadata": {},
   "source": [
    "In the last lesson we saw how we can test objects.  In this lesson, let's practice testing by filling in tests for the rest of the methods."
   ]
  },
  {
   "cell_type": "markdown",
   "metadata": {},
   "source": [
    "### A Quick Review"
   ]
  },
  {
   "cell_type": "markdown",
   "metadata": {},
   "source": [
    "We currently have a Bundle class that looks like the following."
   ]
  },
  {
   "cell_type": "code",
   "execution_count": 11,
   "metadata": {},
   "outputs": [],
   "source": [
    "class Bundle:\n",
    "    def price(self):\n",
    "        if self.weight < 5:\n",
    "            return 10\n",
    "        else:\n",
    "            return 10 + (self.weight - 5)*1.5\n",
    "    \n",
    "    def processingDays(self):\n",
    "        month_difference = self.ready_month - self.dropoff_month\n",
    "        day_difference = self.ready_day -  self.dropoff_day\n",
    "        return month_difference*30 + day_difference\n",
    "    \n",
    "    def holdingDays(self):\n",
    "        month_difference = self.pickup_month - self.dropoff_month\n",
    "        day_difference = self.ready_day -  self.dropoff_day\n",
    "        return month_difference*30 + day_difference"
   ]
  },
  {
   "cell_type": "markdown",
   "metadata": {},
   "source": [
    "Start by placing our Bundle class in a file called `bundle.py`."
   ]
  },
  {
   "cell_type": "markdown",
   "metadata": {},
   "source": [
    "Then create a file called `test_bundle.py`."
   ]
  },
  {
   "cell_type": "markdown",
   "metadata": {},
   "source": [
    "In the last lesson, we had tests that looked like the following."
   ]
  },
  {
   "cell_type": "markdown",
   "metadata": {},
   "source": [
    "\n",
    "```python\n",
    "def test_bundle():\n",
    "    bundle = Bundle()\n",
    "    assert type(bundle) == Bundle\n",
    "    \n",
    "def test_min_price_is_ten():\n",
    "    bundle = Bundle()\n",
    "    bundle.weight = 3\n",
    "    assert bundle.price() == 10\n",
    "\n",
    "def test_additional_one_point_for_if_over_five_pounds():\n",
    "    bundle = Bundle()\n",
    "    bundle.weight = 7\n",
    "    assert bundle.price() == 13\n",
    "```"
   ]
  },
  {
   "cell_type": "markdown",
   "metadata": {},
   "source": [
    "Notice that we tested the `price` method by considering different scenarios, and creating a test for each.  Do something similar for both the `processingDays` and `holdingDays` methods."
   ]
  },
  {
   "cell_type": "markdown",
   "metadata": {},
   "source": [
    "### Summary"
   ]
  },
  {
   "cell_type": "markdown",
   "metadata": {},
   "source": [
    "### Resources"
   ]
  },
  {
   "cell_type": "markdown",
   "metadata": {},
   "source": [
    "[Pytest tutorial](https://www.guru99.com/pytest-tutorial.html)"
   ]
  }
 ],
 "metadata": {
  "kernelspec": {
   "display_name": "Python 3",
   "language": "python",
   "name": "python3"
  },
  "language_info": {
   "codemirror_mode": {
    "name": "ipython",
    "version": 3
   },
   "file_extension": ".py",
   "mimetype": "text/x-python",
   "name": "python",
   "nbconvert_exporter": "python",
   "pygments_lexer": "ipython3",
   "version": "3.8.3"
  }
 },
 "nbformat": 4,
 "nbformat_minor": 4
}
