{
 "cells": [
  {
   "cell_type": "markdown",
   "metadata": {},
   "source": [
    "# Laundry Machine Lab"
   ]
  },
  {
   "cell_type": "markdown",
   "metadata": {},
   "source": [
    "### Introduction"
   ]
  },
  {
   "cell_type": "markdown",
   "metadata": {},
   "source": [
    "Imagine that we are building software to help laundromats keep track of the work they need to do.  \n",
    "\n",
    "Specifically, we want our system to keep track of the laundry bundles that customers drop off for the laundromat to clean.  Let's get started."
   ]
  },
  {
   "cell_type": "markdown",
   "metadata": {},
   "source": [
    "### Building the class"
   ]
  },
  {
   "cell_type": "markdown",
   "metadata": {},
   "source": [
    "Start by creating a `bundle.py` file."
   ]
  },
  {
   "cell_type": "code",
   "execution_count": null,
   "metadata": {},
   "outputs": [],
   "source": [
    "# !touch "
   ]
  },
  {
   "cell_type": "code",
   "execution_count": 4,
   "metadata": {},
   "outputs": [],
   "source": [
    "%load_ext autoreload\n",
    "%autoreload 2"
   ]
  },
  {
   "cell_type": "markdown",
   "metadata": {},
   "source": [
    "1. Start by creating a class called `Bundle` in the `bundle.py` file."
   ]
  },
  {
   "cell_type": "markdown",
   "metadata": {},
   "source": [
    "2. The laundromat charges customers based on the weight of the dropoff.  Anything five pounds or under is 10 dollars, and the laundromat charges $1.50 for every pound over five pounds.  \n",
    "\n",
    "* Add a method called, **price** that calculates the price of a bundle."
   ]
  },
  {
   "cell_type": "code",
   "execution_count": null,
   "metadata": {},
   "outputs": [],
   "source": [
    "secondBundle = Bundle()\n",
    "secondBundle.weight = 8"
   ]
  },
  {
   "cell_type": "markdown",
   "metadata": {},
   "source": [
    "We can check that we did this correctly by now chekcing the price for the corresponding weight."
   ]
  },
  {
   "cell_type": "code",
   "execution_count": 6,
   "metadata": {},
   "outputs": [],
   "source": [
    "secondBundle.price()\n",
    "# 14.5"
   ]
  },
  {
   "cell_type": "markdown",
   "metadata": {},
   "source": [
    "Next, let's write a method that calculates the number of days between when a dropoff occurs and when a bundle is ready for pickup.  \n",
    "\n",
    "> First we add the following data."
   ]
  },
  {
   "cell_type": "code",
   "execution_count": 2,
   "metadata": {},
   "outputs": [
    {
     "ename": "NameError",
     "evalue": "name 'Bundle' is not defined",
     "output_type": "error",
     "traceback": [
      "\u001b[0;31m---------------------------------------------------------------------------\u001b[0m",
      "\u001b[0;31mNameError\u001b[0m                                 Traceback (most recent call last)",
      "\u001b[0;32m<ipython-input-2-77a6cd6d16b3>\u001b[0m in \u001b[0;36m<module>\u001b[0;34m\u001b[0m\n\u001b[0;32m----> 1\u001b[0;31m \u001b[0mthirdBundle\u001b[0m \u001b[0;34m=\u001b[0m \u001b[0mBundle\u001b[0m\u001b[0;34m(\u001b[0m\u001b[0;34m)\u001b[0m\u001b[0;34m\u001b[0m\u001b[0;34m\u001b[0m\u001b[0m\n\u001b[0m\u001b[1;32m      2\u001b[0m \u001b[0mthirdBundle\u001b[0m\u001b[0;34m.\u001b[0m\u001b[0mdropoff_month\u001b[0m \u001b[0;34m=\u001b[0m \u001b[0;36m5\u001b[0m\u001b[0;34m\u001b[0m\u001b[0;34m\u001b[0m\u001b[0m\n\u001b[1;32m      3\u001b[0m \u001b[0mthirdBundle\u001b[0m\u001b[0;34m.\u001b[0m\u001b[0mdropoff_day\u001b[0m \u001b[0;34m=\u001b[0m \u001b[0;36m29\u001b[0m\u001b[0;34m\u001b[0m\u001b[0;34m\u001b[0m\u001b[0m\n\u001b[1;32m      4\u001b[0m \u001b[0mthirdBundle\u001b[0m\u001b[0;34m.\u001b[0m\u001b[0mready_month\u001b[0m \u001b[0;34m=\u001b[0m \u001b[0;36m6\u001b[0m\u001b[0;34m\u001b[0m\u001b[0;34m\u001b[0m\u001b[0m\n\u001b[1;32m      5\u001b[0m \u001b[0mthirdBundle\u001b[0m\u001b[0;34m.\u001b[0m\u001b[0mready_day\u001b[0m \u001b[0;34m=\u001b[0m \u001b[0;36m2\u001b[0m\u001b[0;34m\u001b[0m\u001b[0;34m\u001b[0m\u001b[0m\n",
      "\u001b[0;31mNameError\u001b[0m: name 'Bundle' is not defined"
     ]
    }
   ],
   "source": [
    "thirdBundle = Bundle()\n",
    "thirdBundle.dropoff_month = 5\n",
    "thirdBundle.dropoff_day = 29\n",
    "thirdBundle.ready_month = 6\n",
    "thirdBundle.ready_day = 2"
   ]
  },
  {
   "cell_type": "markdown",
   "metadata": {},
   "source": [
    "So above we set the dropoff month and day, as well as the day that the bundle is ready for pickup.  \n",
    "\n",
    "Now write a method called `processing_days` that calculates the number of days it took to process the bundle.  For the purposes of this problem assume that every month only has 30 days."
   ]
  },
  {
   "cell_type": "code",
   "execution_count": 1,
   "metadata": {},
   "outputs": [
    {
     "ename": "NameError",
     "evalue": "name 'thirdBundle' is not defined",
     "output_type": "error",
     "traceback": [
      "\u001b[0;31m---------------------------------------------------------------------------\u001b[0m",
      "\u001b[0;31mNameError\u001b[0m                                 Traceback (most recent call last)",
      "\u001b[0;32m<ipython-input-1-ad7ee0128e43>\u001b[0m in \u001b[0;36m<module>\u001b[0;34m\u001b[0m\n\u001b[0;32m----> 1\u001b[0;31m \u001b[0mthirdBundle\u001b[0m\u001b[0;34m.\u001b[0m\u001b[0mprocessing_days\u001b[0m\u001b[0;34m(\u001b[0m\u001b[0;34m)\u001b[0m\u001b[0;34m\u001b[0m\u001b[0;34m\u001b[0m\u001b[0m\n\u001b[0m\u001b[1;32m      2\u001b[0m \u001b[0;31m# 3\u001b[0m\u001b[0;34m\u001b[0m\u001b[0;34m\u001b[0m\u001b[0;34m\u001b[0m\u001b[0m\n",
      "\u001b[0;31mNameError\u001b[0m: name 'thirdBundle' is not defined"
     ]
    }
   ],
   "source": [
    "thirdBundle.processing_days()\n",
    "# 3"
   ]
  },
  {
   "cell_type": "markdown",
   "metadata": {},
   "source": [
    "Ok, now the laundromats also care about how soon the clothes get picked up.  Let's write a method called `holdingDays` that calculates from when the clothes were dropped off to when a laundromat customer picks them up."
   ]
  },
  {
   "cell_type": "code",
   "execution_count": 11,
   "metadata": {},
   "outputs": [
    {
     "data": {
      "text/plain": [
       "{'dropoff_month': 5,\n",
       " 'dropoff_day': 29,\n",
       " 'ready_month': 6,\n",
       " 'ready_day': 2,\n",
       " 'pickup_month': 6,\n",
       " 'pickup_day': 5}"
      ]
     },
     "execution_count": 11,
     "metadata": {},
     "output_type": "execute_result"
    }
   ],
   "source": [
    "fourthBundle = Bundle()\n",
    "\n",
    "fourthBundle.dropoff_month = 5\n",
    "fourthBundle.dropoff_day = 29\n",
    "fourthBundle.ready_month = 6\n",
    "fourthBundle.ready_day = 2\n",
    "fourthBundle.pickup_month = 6\n",
    "fourthBundle.pickup_day = 5\n",
    "\n",
    "fourthBundle.__dict__"
   ]
  },
  {
   "cell_type": "code",
   "execution_count": null,
   "metadata": {},
   "outputs": [],
   "source": [
    "fourthBundle.holdingDays()\n",
    "# 6"
   ]
  },
  {
   "cell_type": "markdown",
   "metadata": {},
   "source": [
    "### Summary\n",
    "\n",
    "Congratulations!  As a bonus, try to add in some of your own methods to the class."
   ]
  }
 ],
 "metadata": {
  "kernelspec": {
   "display_name": "Python 3 (ipykernel)",
   "language": "python",
   "name": "python3"
  },
  "language_info": {
   "codemirror_mode": {
    "name": "ipython",
    "version": 3
   },
   "file_extension": ".py",
   "mimetype": "text/x-python",
   "name": "python",
   "nbconvert_exporter": "python",
   "pygments_lexer": "ipython3",
   "version": "3.9.10"
  }
 },
 "nbformat": 4,
 "nbformat_minor": 4
}
