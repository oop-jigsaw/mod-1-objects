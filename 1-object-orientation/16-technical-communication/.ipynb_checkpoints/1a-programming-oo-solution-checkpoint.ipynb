{
 "cells": [
  {
   "cell_type": "markdown",
   "id": "b7b1eec0-95d7-49b1-9001-e40d0bed554c",
   "metadata": {},
   "source": [
    "# Functional and OOP Communication"
   ]
  },
  {
   "cell_type": "markdown",
   "id": "1ff5ed87-00be-49f6-a558-a1aa55c14012",
   "metadata": {},
   "source": [
    "### Introduction"
   ]
  },
  {
   "cell_type": "markdown",
   "id": "be53d024-fbbe-4b89-a837-d016e9909d08",
   "metadata": {},
   "source": [
    "In this lesson, we will practice answering verbal technical questions.  Let's get started."
   ]
  },
  {
   "cell_type": "markdown",
   "id": "7c9e27a3-0075-4c95-848d-79325858b568",
   "metadata": {},
   "source": [
    "### Functional Questions"
   ]
  },
  {
   "cell_type": "code",
   "execution_count": 1,
   "id": "d8205997-35fe-409e-b909-1b0b1fa6d56b",
   "metadata": {},
   "outputs": [],
   "source": [
    "movies = [{'title': 'Shawshank Redemption'}, \n",
    "          {'title': 'Men In Black'}]"
   ]
  },
  {
   "cell_type": "markdown",
   "id": "472e1987-6bca-403d-a2c8-1dd958b6bd09",
   "metadata": {},
   "source": [
    "* Begin by describing the data above"
   ]
  },
  {
   "cell_type": "markdown",
   "id": "ea30a70d-1b9c-4cc5-873e-7d830cda71f7",
   "metadata": {},
   "source": [
    "> Above we have a list of dictionaries where each dictionry represents a movie and has the attribute of title."
   ]
  },
  {
   "cell_type": "markdown",
   "id": "07a21b59-ad1e-418d-85d7-0af70cb06357",
   "metadata": {},
   "source": [
    "Then describe the following procedure."
   ]
  },
  {
   "cell_type": "code",
   "execution_count": 3,
   "id": "d361fc40-feac-4c83-b18f-1fb6dabfbc9a",
   "metadata": {},
   "outputs": [],
   "source": [
    "titles = []\n",
    "for movie in movies:\n",
    "    titles.append(movie['title'])"
   ]
  },
  {
   "cell_type": "markdown",
   "id": "55270a2e-c405-4121-b954-9b5f822baf99",
   "metadata": {},
   "source": [
    "> We declare a list and assign it to the variable `titles`.  Then we iterate through each movie in the list of movies.  In each iteration, we retrieve the value for title and append that title to a list."
   ]
  },
  {
   "cell_type": "markdown",
   "id": "252048b8-5332-4fe6-a5a6-94d0fb8662f4",
   "metadata": {},
   "source": [
    "### Database Questions"
   ]
  },
  {
   "cell_type": "markdown",
   "id": "0ceb0342-276c-4d0b-8604-cafdeb229d25",
   "metadata": {},
   "source": [
    "* What is the difference between an inner join and an outer join"
   ]
  },
  {
   "cell_type": "markdown",
   "id": "579722f3-59a1-4b64-a57e-ed6d73841e3c",
   "metadata": {},
   "source": [
    "> With an inner join, only the intersection between the two tables are returned. That is, only those records where the two joined keys are equal are returned.\n",
    "\n",
    "> With an outer join, all of the records from one of the tables.  For example, with a left outer join, all of the records of the left table is returned.  And then where there is a matching key on the right table, that corresponding record is returned.  Where there is no match the record in the left table is returned and for the right table there are null values."
   ]
  },
  {
   "cell_type": "markdown",
   "id": "5ace58f0-73d2-4574-8660-c25671b60b53",
   "metadata": {},
   "source": [
    "* Name the different kinds of keys and describe them"
   ]
  },
  {
   "cell_type": "markdown",
   "id": "d7de7b86-e60e-45f2-8a26-500da6560250",
   "metadata": {},
   "source": [
    "> Primary Key - Identifier for a record.  This is a unique value for each record in the table.\n",
    "\n",
    "> Foreign Key - References another table's primary key."
   ]
  },
  {
   "cell_type": "markdown",
   "id": "e1cc4311-8559-4ab7-aaf0-509616a0290e",
   "metadata": {},
   "source": [
    "### Object Oriented Questions"
   ]
  },
  {
   "cell_type": "code",
   "execution_count": 9,
   "id": "43725d45-90eb-4b00-976b-6ac4180b5c6d",
   "metadata": {},
   "outputs": [],
   "source": [
    "class Student:\n",
    "    def greet(self):\n",
    "        return 'hello everyone'"
   ]
  },
  {
   "cell_type": "markdown",
   "id": "a06a7fd7-74cb-451d-8113-561d1c2bda55",
   "metadata": {},
   "source": [
    "* Please describe the above"
   ]
  },
  {
   "cell_type": "markdown",
   "id": "5304289a-5bbe-4556-ba1d-c30d4c7e505f",
   "metadata": {},
   "source": [
    "> We declare a class called student, and an instance method called `greet`."
   ]
  },
  {
   "cell_type": "code",
   "execution_count": 10,
   "id": "bb61ff7c-9dc6-42e3-939f-338fe4d7111e",
   "metadata": {},
   "outputs": [],
   "source": [
    "bob = Student()"
   ]
  },
  {
   "cell_type": "markdown",
   "id": "43fe6086-87ff-4bbb-b1aa-87d3fc4a2ca6",
   "metadata": {},
   "source": [
    "Then describe the above."
   ]
  },
  {
   "cell_type": "markdown",
   "id": "dbeabc26-03ec-42cc-a953-e7004c4c173c",
   "metadata": {},
   "source": [
    "> We initialize the a new student and assign it to the variable `bob`."
   ]
  },
  {
   "cell_type": "markdown",
   "id": "d22fc4f1-3f7a-43e5-8a7b-9fff69b4b79b",
   "metadata": {},
   "source": [
    "And now describe what happens below."
   ]
  },
  {
   "cell_type": "code",
   "execution_count": 11,
   "id": "2c80aeb0-5348-4b4b-8f3e-b0a8e2932121",
   "metadata": {},
   "outputs": [
    {
     "data": {
      "text/plain": [
       "'hello everyone'"
      ]
     },
     "execution_count": 11,
     "metadata": {},
     "output_type": "execute_result"
    }
   ],
   "source": [
    "bob.greet()"
   ]
  },
  {
   "cell_type": "markdown",
   "id": "85e73bc6-b882-4225-a075-dbf165d61c75",
   "metadata": {},
   "source": [
    "> We invoke the instance method `greet` on the instance student instance."
   ]
  },
  {
   "cell_type": "markdown",
   "id": "2ebe2e19-2bc9-42fa-8afd-b04fbaa0a4a0",
   "metadata": {},
   "source": [
    "### Project Management Questions"
   ]
  },
  {
   "cell_type": "markdown",
   "id": "1c07523e-a77c-40be-b05f-4d73599499d3",
   "metadata": {},
   "source": [
    "1. Describe how to make a sandwich."
   ]
  },
  {
   "cell_type": "markdown",
   "id": "ca3fc327-7f39-4c8f-b3c4-cd7320169d0d",
   "metadata": {},
   "source": [
    "2. Describe the following in 100 words or less"
   ]
  },
  {
   "cell_type": "markdown",
   "id": "3683adae-513e-4e98-a6de-58034f6c3d62",
   "metadata": {},
   "source": [
    "<img src=\"./describe-picture.png\" width=\"60%\">"
   ]
  },
  {
   "cell_type": "markdown",
   "id": "9dad1577-3f0e-458e-b227-8e5b953d28de",
   "metadata": {},
   "source": [
    "Imminent Danger:\n",
    "    \n",
    "Two kids are currently unattended and are not aware of a fire.\n",
    "Someone should take control of the situation immediately – ideally the parent, a neighbor or proper authorities.  \n",
    "The children need to be evacuated, and if the fire is not handled quickly, the fire department will need to be called.\n",
    "\n",
    "\n",
    "1. Of immediate concern: \n",
    "* Small, untamed kitchen fire \n",
    "* Flooding caused by a hose\n",
    "* Sharp objects and extreme mess – (rake, maybe knives)\n",
    "* Kids unaware of the danger they are in\n",
    "2. Short term concern\n",
    "* Unsafe situation without fire, and damage to apartment\n",
    "\n",
    "3. Longer Term concern\n",
    "* Lack of parental supervision and control"
   ]
  }
 ],
 "metadata": {
  "kernelspec": {
   "display_name": "Python 3 (ipykernel)",
   "language": "python",
   "name": "python3"
  },
  "language_info": {
   "codemirror_mode": {
    "name": "ipython",
    "version": 3
   },
   "file_extension": ".py",
   "mimetype": "text/x-python",
   "name": "python",
   "nbconvert_exporter": "python",
   "pygments_lexer": "ipython3",
   "version": "3.9.12"
  }
 },
 "nbformat": 4,
 "nbformat_minor": 5
}
