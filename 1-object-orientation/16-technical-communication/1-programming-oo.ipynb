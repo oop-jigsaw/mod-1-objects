{
 "cells": [
  {
   "cell_type": "markdown",
   "id": "b7b1eec0-95d7-49b1-9001-e40d0bed554c",
   "metadata": {},
   "source": [
    "# Functional and OOP Communication"
   ]
  },
  {
   "cell_type": "markdown",
   "id": "1ff5ed87-00be-49f6-a558-a1aa55c14012",
   "metadata": {},
   "source": [
    "### Introduction"
   ]
  },
  {
   "cell_type": "markdown",
   "id": "be53d024-fbbe-4b89-a837-d016e9909d08",
   "metadata": {},
   "source": [
    "In this lesson, we will practice answering verbal technical questions.  Let's get started."
   ]
  },
  {
   "cell_type": "markdown",
   "id": "7c9e27a3-0075-4c95-848d-79325858b568",
   "metadata": {},
   "source": [
    "### Functional Questions"
   ]
  },
  {
   "cell_type": "code",
   "execution_count": 1,
   "id": "d8205997-35fe-409e-b909-1b0b1fa6d56b",
   "metadata": {},
   "outputs": [],
   "source": [
    "movies = [{'title': 'Shawshank Redemption'}, \n",
    "          {'title': 'Men In Black'}]"
   ]
  },
  {
   "cell_type": "markdown",
   "id": "472e1987-6bca-403d-a2c8-1dd958b6bd09",
   "metadata": {},
   "source": [
    "* Begin by describing the data above"
   ]
  },
  {
   "cell_type": "markdown",
   "id": "07a21b59-ad1e-418d-85d7-0af70cb06357",
   "metadata": {},
   "source": [
    "Then describe the following procedure."
   ]
  },
  {
   "cell_type": "code",
   "execution_count": 3,
   "id": "d361fc40-feac-4c83-b18f-1fb6dabfbc9a",
   "metadata": {},
   "outputs": [],
   "source": [
    "titles = []\n",
    "for movie in movies:\n",
    "    titles.append(movie['title'])"
   ]
  },
  {
   "cell_type": "markdown",
   "id": "252048b8-5332-4fe6-a5a6-94d0fb8662f4",
   "metadata": {},
   "source": [
    "### Database Questions"
   ]
  },
  {
   "cell_type": "markdown",
   "id": "0ceb0342-276c-4d0b-8604-cafdeb229d25",
   "metadata": {},
   "source": [
    "* What is the difference between an inner join and an outer join"
   ]
  },
  {
   "cell_type": "markdown",
   "id": "5ace58f0-73d2-4574-8660-c25671b60b53",
   "metadata": {},
   "source": [
    "* Name the different kinds of keys and describe them"
   ]
  },
  {
   "cell_type": "markdown",
   "id": "e1cc4311-8559-4ab7-aaf0-509616a0290e",
   "metadata": {},
   "source": [
    "### Object Oriented Questions"
   ]
  },
  {
   "cell_type": "code",
   "execution_count": 9,
   "id": "43725d45-90eb-4b00-976b-6ac4180b5c6d",
   "metadata": {},
   "outputs": [],
   "source": [
    "class Student:\n",
    "    def greet(self):\n",
    "        return 'hello everyone'"
   ]
  },
  {
   "cell_type": "markdown",
   "id": "a06a7fd7-74cb-451d-8113-561d1c2bda55",
   "metadata": {},
   "source": [
    "* Please describe the above"
   ]
  },
  {
   "cell_type": "code",
   "execution_count": 10,
   "id": "bb61ff7c-9dc6-42e3-939f-338fe4d7111e",
   "metadata": {},
   "outputs": [],
   "source": [
    "bob = Student()"
   ]
  },
  {
   "cell_type": "markdown",
   "id": "43fe6086-87ff-4bbb-b1aa-87d3fc4a2ca6",
   "metadata": {},
   "source": [
    "Then describe the above."
   ]
  },
  {
   "cell_type": "markdown",
   "id": "d22fc4f1-3f7a-43e5-8a7b-9fff69b4b79b",
   "metadata": {},
   "source": [
    "And now describe what happens below."
   ]
  },
  {
   "cell_type": "code",
   "execution_count": 11,
   "id": "2c80aeb0-5348-4b4b-8f3e-b0a8e2932121",
   "metadata": {},
   "outputs": [
    {
     "data": {
      "text/plain": [
       "'hello everyone'"
      ]
     },
     "execution_count": 11,
     "metadata": {},
     "output_type": "execute_result"
    }
   ],
   "source": [
    "bob.greet()"
   ]
  },
  {
   "cell_type": "markdown",
   "id": "2ebe2e19-2bc9-42fa-8afd-b04fbaa0a4a0",
   "metadata": {},
   "source": [
    "### Project Management Questions"
   ]
  },
  {
   "cell_type": "markdown",
   "id": "ca3fc327-7f39-4c8f-b3c4-cd7320169d0d",
   "metadata": {},
   "source": [
    "1. Describe the following in 100 words or less"
   ]
  },
  {
   "cell_type": "markdown",
   "id": "3683adae-513e-4e98-a6de-58034f6c3d62",
   "metadata": {},
   "source": [
    "<img src=\"./describe-picture.png\" width=\"60%\">"
   ]
  }
 ],
 "metadata": {
  "kernelspec": {
   "display_name": "Python 3 (ipykernel)",
   "language": "python",
   "name": "python3"
  },
  "language_info": {
   "codemirror_mode": {
    "name": "ipython",
    "version": 3
   },
   "file_extension": ".py",
   "mimetype": "text/x-python",
   "name": "python",
   "nbconvert_exporter": "python",
   "pygments_lexer": "ipython3",
   "version": "3.9.12"
  }
 },
 "nbformat": 4,
 "nbformat_minor": 5
}
