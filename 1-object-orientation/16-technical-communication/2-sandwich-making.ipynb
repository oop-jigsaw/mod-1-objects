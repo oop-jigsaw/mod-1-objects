{
 "cells": [
  {
   "cell_type": "markdown",
   "id": "891e8e91-21d0-40d6-88e4-724d54c8279f",
   "metadata": {},
   "source": [
    "# Sandwich Making"
   ]
  },
  {
   "cell_type": "markdown",
   "id": "62ef29bd-2299-4011-a693-a6605df1b7b5",
   "metadata": {},
   "source": [
    "Please describe how you would make a sandwich."
   ]
  },
  {
   "cell_type": "markdown",
   "id": "ead13150-6ad2-48d2-99de-281c0e2e96e2",
   "metadata": {},
   "source": [
    "1. Assuming your dominant hand is your right hand.\n",
    "* Assuming we will make a peanut butter and jelly sandwich.\n",
    "\n",
    "Initial Steps:\n",
    "* You will first pull out the necessary ingredients in your kitchen/ fridge or buy it from the grocery store if you \n",
    "don't have it already.\n",
    "* The ingredients and tool will include loaf of bread, peanut butter, jelly (flavor of your choice) knife, plate and \n",
    "table.\n",
    "\n",
    "Directions:\n",
    "* Put all ingredients and tool on top of your table and face the table.\n",
    "* Check if your loaf of bread comes pre-sliced if not use the knife to slice the bread about 1 inch apart.\n",
    "* Pull out 2 slice of bread from your loaf of bread, approximately equal in size and put them both on your plate.\n",
    "* Open the peanut butter jar and place the lid down on the table. Hold the knife in your right hand and put the \n",
    "knife inside the peanut butter jar and swab approximately 1 tablespoon in size of peanut butter on the knife.\n",
    "* Then with your left hand grab 1 of the slice of bread from the plate.\n",
    "* Spread the peanut butter from the knife you are holding from your right hand evenly to the slice of bread your \n",
    "holding on with your left hand until there is no more peanut butter on the knife.\n",
    "* Then put the slice of bread with peanut butter back on the plate, peanut butter side facing up from the plate.\n",
    "* Put the knife next to you on the table.\n",
    "* Close the peanut butter jar with it's lid.\n",
    "* Open the jelly jar and place the lid down on the table. Pick up and hold the knife in your right hand and put the \n",
    "knife inside the jelly jar and swab approximately 1 tablespoon in size of jelly on the knife.\n",
    "* Then with your left hand hold the slice of bread without peanut butter.\n",
    "* Spread the jelly from the knife you are holding from your right hand evenly to the slice of bread your holding \n",
    "on with your left hand until there is no more jelly on the knife.\n",
    "* Put the knife down on the table next to you.\n",
    "* With both hands put the slice of bread with jelly, with the jelly part facing down on top of the slice of bread \n",
    "with peanut butter. Make sure they align together.\n",
    "* Set the plate with your peanut butter and jelly sandwich aside and put the knife in the sink, bread and jelly in \n",
    "your fridge and peanut butter in your cabinet.\n",
    "Now you can enjoy the peanut butter and jelly sandwich from your plate!"
   ]
  }
 ],
 "metadata": {
  "kernelspec": {
   "display_name": "Python 3 (ipykernel)",
   "language": "python",
   "name": "python3"
  },
  "language_info": {
   "codemirror_mode": {
    "name": "ipython",
    "version": 3
   },
   "file_extension": ".py",
   "mimetype": "text/x-python",
   "name": "python",
   "nbconvert_exporter": "python",
   "pygments_lexer": "ipython3",
   "version": "3.9.12"
  }
 },
 "nbformat": 4,
 "nbformat_minor": 5
}
